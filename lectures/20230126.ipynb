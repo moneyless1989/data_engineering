{
 "cells": [
  {
   "cell_type": "code",
   "execution_count": 1,
   "id": "311ebba0",
   "metadata": {},
   "outputs": [],
   "source": [
    "def solution(text):\n",
    "    if text == text[::-1]:\n",
    "        return True\n",
    "    else:\n",
    "        return False"
   ]
  },
  {
   "cell_type": "code",
   "execution_count": 5,
   "id": "a78db6fd",
   "metadata": {},
   "outputs": [
    {
     "data": {
      "text/plain": [
       "True"
      ]
     },
     "execution_count": 5,
     "metadata": {},
     "output_type": "execute_result"
    }
   ],
   "source": [
    "solution(\"closetesolc\")"
   ]
  },
  {
   "cell_type": "code",
   "execution_count": 23,
   "id": "abac7baf",
   "metadata": {},
   "outputs": [],
   "source": [
    "a = []\n",
    "for x in range(50000000):\n",
    "    a.append(str(x))"
   ]
  },
  {
   "cell_type": "code",
   "execution_count": 25,
   "id": "adde23ce",
   "metadata": {},
   "outputs": [
    {
     "name": "stdout",
     "output_type": "stream",
     "text": [
      "Wall time: 16.4 s\n"
     ]
    },
    {
     "data": {
      "text/plain": [
       "1249999975000000"
      ]
     },
     "execution_count": 25,
     "metadata": {},
     "output_type": "execute_result"
    }
   ],
   "source": [
    "%%time\n",
    "sum([int(x) for x in a])"
   ]
  },
  {
   "cell_type": "code",
   "execution_count": 26,
   "id": "4c3c51c3",
   "metadata": {},
   "outputs": [
    {
     "name": "stdout",
     "output_type": "stream",
     "text": [
      "Wall time: 8.64 s\n"
     ]
    },
    {
     "data": {
      "text/plain": [
       "1249999975000000"
      ]
     },
     "execution_count": 26,
     "metadata": {},
     "output_type": "execute_result"
    }
   ],
   "source": [
    "%%time\n",
    "sum(map(int, a))"
   ]
  },
  {
   "cell_type": "code",
   "execution_count": 34,
   "id": "c5c799a4",
   "metadata": {},
   "outputs": [],
   "source": [
    "import requests\n",
    "from bs4 import BeautifulSoup as BS"
   ]
  },
  {
   "cell_type": "code",
   "execution_count": 81,
   "id": "8d898bed",
   "metadata": {},
   "outputs": [],
   "source": [
    "url = \"https://finance.naver.com/item/sise_day.naver?code=005930&page=1\""
   ]
  },
  {
   "cell_type": "code",
   "execution_count": 82,
   "id": "906b2f87",
   "metadata": {},
   "outputs": [],
   "source": [
    "head = {\"user-agent\": \"Mozilla/5.0 (Windows NT 10.0; Win64; x64) AppleWebKit/537.36 (KHTML, like Gecko) Chrome/109.0.0.0 Safari/537.36\"}"
   ]
  },
  {
   "cell_type": "code",
   "execution_count": 83,
   "id": "703ca291",
   "metadata": {},
   "outputs": [],
   "source": [
    "r = requests.get(url, headers = head)"
   ]
  },
  {
   "cell_type": "code",
   "execution_count": 84,
   "id": "44707db1",
   "metadata": {
    "scrolled": true
   },
   "outputs": [
    {
     "data": {
      "text/plain": [
       "'\\n<html lang=\"ko\">\\n<head>\\n<meta http-equiv=\"Content-Type\" content=\"text/html; charset=euc-kr\">\\n<title>네이버 증권</title>\\n\\n<link rel=\"stylesheet\" type=\"text/css\" href=\"https://ssl.pstatic.net/imgstock/static.pc/20230109162011/css/newstock.css\">\\n<link rel=\"stylesheet\" type=\"text/css\" href=\"https://ssl.pstatic.net/imgstock/static.pc/20230109162011/css/common.css\">\\n<link rel=\"stylesheet\" type=\"text/css\" href=\"https://ssl.pstatic.net/imgstock/static.pc/20230109162011/css/layout.css\">\\n<link rel=\"stylesheet\" type=\"text/css\" href=\"https://ssl.pstatic.net/imgstock/static.pc/20230109162011/css/main.css\">\\n<link rel=\"stylesheet\" type=\"text/css\" href=\"https://ssl.pstatic.net/imgstock/static.pc/20230109162011/css/newstock2.css\">\\n<link rel=\"stylesheet\" type=\"text/css\" href=\"https://ssl.pstatic.net/imgstock/static.pc/20230109162011/css/newstock3.css\">\\n<link rel=\"stylesheet\" type=\"text/css\" href=\"https://ssl.pstatic.net/imgstock/static.pc/20230109162011/css/world.css\">\\n</head>\\n<body>\\n<script language=\"JavaScript\">\\nfunction mouseOver(obj){\\n  obj.style.backgroundColor=\"#f6f4e5\";\\n}\\nfunction mouseOut(obj){\\n  obj.style.backgroundColor=\"#ffffff\";\\n}\\n</script>\\n\\t\\t\\t\\t<h4 class=\"tlline2\"><strong><span class=\"red03\">일별</span>시세</strong></h4>\\t\\t\\t\\n\\t\\t\\t\\t<table cellspacing=\"0\" class=\"type2\">\\n\\t\\t\\t\\t<tr>\\n\\t\\t\\t\\t<th>날짜</th>\\n\\t\\t\\t\\t<th>종가</th>\\n\\t\\t\\t\\t<th>전일비</th>\\n\\t\\t\\t\\t<th>시가</th>\\n\\t\\t\\t\\t<th>고가</th>\\n\\t\\t\\t\\t<th>저가</th>\\n\\t\\t\\t\\t<th>거래량</th>\\n\\t\\t\\t\\t</tr>\\n\\t\\t\\t\\t<tr>\\n\\t\\t\\t\\t<td colspan=\"7\" height=\"8\"></td>\\n\\t\\t\\t\\t</tr>\\n\\n\\n\\t\\n\\t\\t\\t\\t<tr onMouseOver=\"mouseOver(this)\" onMouseOut=\"mouseOut(this)\">\\n\\t\\t\\t\\t<td align=\"center\"><span class=\"tah p10 gray03\">2023.01.26</span></td>\\n\\t\\t\\t\\t<td class=\"num\"><span class=\"tah p11\">63,700</span></td>\\n\\t\\t\\t\\t<td class=\"num\">\\n\\t\\t\\t\\t<img src=\"https://ssl.pstatic.net/imgstock/images/images4/ico_up.gif\" width=\"7\" height=\"6\" style=\"margin-right:4px;\" alt=\"상승\"><span class=\"tah p11 red02\">\\n\\t\\t\\t\\t300\\n\\t\\t\\t\\t</span>\\n\\t\\t\\t</td>\\n\\t\\t\\t\\t<td class=\"num\"><span class=\"tah p11\">63,800</span></td>\\n\\t\\t\\t\\t<td class=\"num\"><span class=\"tah p11\">63,900</span></td>\\n\\t\\t\\t\\t<td class=\"num\"><span class=\"tah p11\">63,300</span></td>\\n\\t\\t\\t\\t<td class=\"num\"><span class=\"tah p11\">6,391,642</span></td>\\n\\t\\t\\t\\t</tr>\\n\\t\\t\\n\\t\\t\\t\\n\\t\\t\\t\\t\\n\\t\\t\\t\\t\\t<tr onMouseOver=\"mouseOver(this)\" onMouseOut=\"mouseOut(this)\">\\n\\t\\t\\t\\t\\t<td align=\"center\"><span class=\"tah p10 gray03\">2023.01.25</span></td>\\n\\t\\t\\t\\t\\t<td class=\"num\"><span class=\"tah p11\">63,400</span></td>\\n\\t\\t\\t\\t\\t<td class=\"num\">\\n\\t\\t\\t\\t<img src=\"https://ssl.pstatic.net/imgstock/images/images4/ico_up.gif\" width=\"7\" height=\"6\" style=\"margin-right:4px;\" alt=\"상승\"><span class=\"tah p11 red02\">\\n\\t\\t\\t\\t1,600\\n\\t\\t\\t\\t</span>\\n\\t\\t\\t</td>\\n\\t\\t\\t\\t\\t<td class=\"num\"><span class=\"tah p11\">63,500</span></td>\\n\\t\\t\\t\\t\\t<td class=\"num\"><span class=\"tah p11\">63,700</span></td>\\n\\t\\t\\t\\t\\t<td class=\"num\"><span class=\"tah p11\">63,000</span></td>\\n\\t\\t\\t\\t\\t<td class=\"num\"><span class=\"tah p11\">16,822,710</span></td>\\n\\t\\t\\t\\t\\t</tr>\\n\\t\\t\\t\\t\\n\\t\\t\\t\\t\\n\\t\\t\\t\\n\\t\\t\\t\\n\\t\\t\\t\\n\\t\\t\\t\\n\\t\\t\\t\\n\\t\\n\\t\\t\\n\\t\\t\\t\\n\\t\\t\\t\\t\\n\\t\\t\\t\\t\\t<tr onMouseOver=\"mouseOver(this)\" onMouseOut=\"mouseOut(this)\">\\n\\t\\t\\t\\t\\t<td align=\"center\"><span class=\"tah p10 gray03\">2023.01.20</span></td>\\n\\t\\t\\t\\t\\t<td class=\"num\"><span class=\"tah p11\">61,800</span></td>\\n\\t\\t\\t\\t\\t<td class=\"num\">\\n\\t\\t\\t\\t<img src=\"https://ssl.pstatic.net/imgstock/images/images4/ico_up.gif\" width=\"7\" height=\"6\" style=\"margin-right:4px;\" alt=\"상승\"><span class=\"tah p11 red02\">\\n\\t\\t\\t\\t300\\n\\t\\t\\t\\t</span>\\n\\t\\t\\t</td>\\n\\t\\t\\t\\t\\t<td class=\"num\"><span class=\"tah p11\">62,100</span></td>\\n\\t\\t\\t\\t\\t<td class=\"num\"><span class=\"tah p11\">62,300</span></td>\\n\\t\\t\\t\\t\\t<td class=\"num\"><span class=\"tah p11\">61,100</span></td>\\n\\t\\t\\t\\t\\t<td class=\"num\"><span class=\"tah p11\">9,646,327</span></td>\\n\\t\\t\\t\\t\\t</tr>\\n\\t\\t\\t\\t\\n\\t\\t\\t\\t\\n\\t\\t\\t\\n\\t\\t\\t\\n\\t\\t\\t\\n\\t\\t\\t\\n\\t\\t\\t\\n\\t\\n\\t\\t\\n\\t\\t\\t\\n\\t\\t\\t\\t\\n\\t\\t\\t\\t\\t<tr onMouseOver=\"mouseOver(this)\" onMouseOut=\"mouseOut(this)\">\\n\\t\\t\\t\\t\\t<td align=\"center\"><span class=\"tah p10 gray03\">2023.01.19</span></td>\\n\\t\\t\\t\\t\\t<td class=\"num\"><span class=\"tah p11\">61,500</span></td>\\n\\t\\t\\t\\t\\t<td class=\"num\">\\n\\t\\t\\t\\t<img src=\"https://ssl.pstatic.net/imgstock/images/images4/ico_up.gif\" width=\"7\" height=\"6\" style=\"margin-right:4px;\" alt=\"상승\"><span class=\"tah p11 red02\">\\n\\t\\t\\t\\t1,100\\n\\t\\t\\t\\t</span>\\n\\t\\t\\t</td>\\n\\t\\t\\t\\t\\t<td class=\"num\"><span class=\"tah p11\">60,500</span></td>\\n\\t\\t\\t\\t\\t<td class=\"num\"><span class=\"tah p11\">61,500</span></td>\\n\\t\\t\\t\\t\\t<td class=\"num\"><span class=\"tah p11\">60,400</span></td>\\n\\t\\t\\t\\t\\t<td class=\"num\"><span class=\"tah p11\">12,808,490</span></td>\\n\\t\\t\\t\\t\\t</tr>\\n\\t\\t\\t\\t\\n\\t\\t\\t\\t\\n\\t\\t\\t\\n\\t\\t\\t\\n\\t\\t\\t\\n\\t\\t\\t\\n\\t\\t\\t\\n\\t\\n\\t\\t\\n\\t\\t\\t\\n\\t\\t\\t\\t\\n\\t\\t\\t\\t\\t<tr onMouseOver=\"mouseOver(this)\" onMouseOut=\"mouseOut(this)\">\\n\\t\\t\\t\\t\\t<td align=\"center\"><span class=\"tah p10 gray03\">2023.01.18</span></td>\\n\\t\\t\\t\\t\\t<td class=\"num\"><span class=\"tah p11\">60,400</span></td>\\n\\t\\t\\t\\t\\t<td class=\"num\">\\n\\t\\t\\t\\t<img src=\"https://ssl.pstatic.net/imgstock/images/images4/ico_down.gif\" width=\"7\" height=\"6\" style=\"margin-right:4px;\" alt=\"하락\"><span class=\"tah p11 nv01\">\\n\\t\\t\\t\\t600\\n\\t\\t\\t\\t</span>\\n\\t\\t\\t</td>\\n\\t\\t\\t\\t\\t<td class=\"num\"><span class=\"tah p11\">60,700</span></td>\\n\\t\\t\\t\\t\\t<td class=\"num\"><span class=\"tah p11\">61,000</span></td>\\n\\t\\t\\t\\t\\t<td class=\"num\"><span class=\"tah p11\">59,900</span></td>\\n\\t\\t\\t\\t\\t<td class=\"num\"><span class=\"tah p11\">11,584,041</span></td>\\n\\t\\t\\t\\t\\t</tr>\\n\\t\\t\\t\\t\\n\\t\\t\\t\\t\\n\\t\\t\\t\\n\\t\\t\\t\\n\\t\\t\\t\\n\\t\\t\\t\\n\\t\\t\\t\\t<tr>\\n\\t\\t\\t\\t<td colspan=\"7\" height=\"8\"></td>\\n\\t\\t\\t\\t</tr>\\n\\t\\t\\t\\t<tr>\\n\\t\\t\\t\\t<td colspan=\"7\" height=\"1\" bgcolor=\"#e1e1e1\"></td>\\n\\t\\t\\t\\t</tr>\\n\\t\\t\\t\\t<tr>\\n\\t\\t\\t\\t<td colspan=\"7\" height=\"8\"></td>\\n\\t\\t\\t\\t</tr>\\n\\t\\t\\t\\n\\t\\t\\t\\n\\t\\n\\t\\t\\n\\t\\t\\t\\n\\t\\t\\t\\t\\n\\t\\t\\t\\t\\t<tr onMouseOver=\"mouseOver(this)\" onMouseOut=\"mouseOut(this)\">\\n\\t\\t\\t\\t\\t<td align=\"center\"><span class=\"tah p10 gray03\">2023.01.17</span></td>\\n\\t\\t\\t\\t\\t<td class=\"num\"><span class=\"tah p11\">61,000</span></td>\\n\\t\\t\\t\\t\\t<td class=\"num\">\\n\\t\\t\\t\\t<img src=\"https://ssl.pstatic.net/imgstock/images/images4/ico_down.gif\" width=\"7\" height=\"6\" style=\"margin-right:4px;\" alt=\"하락\"><span class=\"tah p11 nv01\">\\n\\t\\t\\t\\t100\\n\\t\\t\\t\\t</span>\\n\\t\\t\\t</td>\\n\\t\\t\\t\\t\\t<td class=\"num\"><span class=\"tah p11\">61,200</span></td>\\n\\t\\t\\t\\t\\t<td class=\"num\"><span class=\"tah p11\">61,500</span></td>\\n\\t\\t\\t\\t\\t<td class=\"num\"><span class=\"tah p11\">60,600</span></td>\\n\\t\\t\\t\\t\\t<td class=\"num\"><span class=\"tah p11\">9,831,456</span></td>\\n\\t\\t\\t\\t\\t</tr>\\n\\t\\t\\t\\t\\n\\t\\t\\t\\t\\n\\t\\t\\t\\n\\t\\t\\t\\n\\t\\t\\t\\n\\t\\t\\t\\n\\t\\t\\t\\n\\t\\n\\t\\t\\n\\t\\t\\t\\n\\t\\t\\t\\t\\n\\t\\t\\t\\t\\t<tr onMouseOver=\"mouseOver(this)\" onMouseOut=\"mouseOut(this)\">\\n\\t\\t\\t\\t\\t<td align=\"center\"><span class=\"tah p10 gray03\">2023.01.16</span></td>\\n\\t\\t\\t\\t\\t<td class=\"num\"><span class=\"tah p11\">61,100</span></td>\\n\\t\\t\\t\\t\\t<td class=\"num\">\\n\\t\\t\\t\\t<img src=\"https://ssl.pstatic.net/imgstock/images/images4/ico_up.gif\" width=\"7\" height=\"6\" style=\"margin-right:4px;\" alt=\"상승\"><span class=\"tah p11 red02\">\\n\\t\\t\\t\\t300\\n\\t\\t\\t\\t</span>\\n\\t\\t\\t</td>\\n\\t\\t\\t\\t\\t<td class=\"num\"><span class=\"tah p11\">61,300</span></td>\\n\\t\\t\\t\\t\\t<td class=\"num\"><span class=\"tah p11\">61,600</span></td>\\n\\t\\t\\t\\t\\t<td class=\"num\"><span class=\"tah p11\">60,800</span></td>\\n\\t\\t\\t\\t\\t<td class=\"num\"><span class=\"tah p11\">10,039,972</span></td>\\n\\t\\t\\t\\t\\t</tr>\\n\\t\\t\\t\\t\\n\\t\\t\\t\\t\\n\\t\\t\\t\\n\\t\\t\\t\\n\\t\\t\\t\\n\\t\\t\\t\\n\\t\\t\\t\\n\\t\\n\\t\\t\\n\\t\\t\\t\\n\\t\\t\\t\\t\\n\\t\\t\\t\\t\\t<tr onMouseOver=\"mouseOver(this)\" onMouseOut=\"mouseOut(this)\">\\n\\t\\t\\t\\t\\t<td align=\"center\"><span class=\"tah p10 gray03\">2023.01.13</span></td>\\n\\t\\t\\t\\t\\t<td class=\"num\"><span class=\"tah p11\">60,800</span></td>\\n\\t\\t\\t\\t\\t<td class=\"num\">\\n\\t\\t\\t\\t<img src=\"https://ssl.pstatic.net/imgstock/images/images4/ico_up.gif\" width=\"7\" height=\"6\" style=\"margin-right:4px;\" alt=\"상승\"><span class=\"tah p11 red02\">\\n\\t\\t\\t\\t300\\n\\t\\t\\t\\t</span>\\n\\t\\t\\t</td>\\n\\t\\t\\t\\t\\t<td class=\"num\"><span class=\"tah p11\">60,500</span></td>\\n\\t\\t\\t\\t\\t<td class=\"num\"><span class=\"tah p11\">61,200</span></td>\\n\\t\\t\\t\\t\\t<td class=\"num\"><span class=\"tah p11\">60,400</span></td>\\n\\t\\t\\t\\t\\t<td class=\"num\"><span class=\"tah p11\">12,510,328</span></td>\\n\\t\\t\\t\\t\\t</tr>\\n\\t\\t\\t\\t\\n\\t\\t\\t\\t\\n\\t\\t\\t\\n\\t\\t\\t\\n\\t\\t\\t\\n\\t\\t\\t\\n\\t\\t\\t\\n\\t\\n\\t\\t\\n\\t\\t\\t\\n\\t\\t\\t\\t\\n\\t\\t\\t\\t\\t<tr onMouseOver=\"mouseOver(this)\" onMouseOut=\"mouseOut(this)\">\\n\\t\\t\\t\\t\\t<td align=\"center\"><span class=\"tah p10 gray03\">2023.01.12</span></td>\\n\\t\\t\\t\\t\\t<td class=\"num\"><span class=\"tah p11\">60,500</span></td>\\n\\t\\t\\t\\t\\t<td class=\"num\">\\n\\t\\t\\t\\t<span class=\"tah p11\">0</span>\\n\\t\\t\\t</td>\\n\\t\\t\\t\\t\\t<td class=\"num\"><span class=\"tah p11\">61,100</span></td>\\n\\t\\t\\t\\t\\t<td class=\"num\"><span class=\"tah p11\">61,200</span></td>\\n\\t\\t\\t\\t\\t<td class=\"num\"><span class=\"tah p11\">59,900</span></td>\\n\\t\\t\\t\\t\\t<td class=\"num\"><span class=\"tah p11\">16,102,561</span></td>\\n\\t\\t\\t\\t\\t</tr>\\n\\t\\t\\t\\t\\n\\t\\t\\t\\t\\n\\t\\t\\t\\n\\t\\t\\t\\n\\t\\t\\t\\n\\t\\t\\t\\n\\t\\t\\t\\n\\t\\n\\t\\t\\n\\t\\t\\t\\n\\t\\t\\t\\t\\n\\t\\t\\t\\t\\t<tr onMouseOver=\"mouseOver(this)\" onMouseOut=\"mouseOut(this)\">\\n\\t\\t\\t\\t\\t<td align=\"center\"><span class=\"tah p10 gray03\">2023.01.11</span></td>\\n\\t\\t\\t\\t\\t<td class=\"num\"><span class=\"tah p11\">60,500</span></td>\\n\\t\\t\\t\\t\\t<td class=\"num\">\\n\\t\\t\\t\\t<img src=\"https://ssl.pstatic.net/imgstock/images/images4/ico_up.gif\" width=\"7\" height=\"6\" style=\"margin-right:4px;\" alt=\"상승\"><span class=\"tah p11 red02\">\\n\\t\\t\\t\\t100\\n\\t\\t\\t\\t</span>\\n\\t\\t\\t</td>\\n\\t\\t\\t\\t\\t<td class=\"num\"><span class=\"tah p11\">61,000</span></td>\\n\\t\\t\\t\\t\\t<td class=\"num\"><span class=\"tah p11\">61,200</span></td>\\n\\t\\t\\t\\t\\t<td class=\"num\"><span class=\"tah p11\">60,300</span></td>\\n\\t\\t\\t\\t\\t<td class=\"num\"><span class=\"tah p11\">12,310,751</span></td>\\n\\t\\t\\t\\t\\t</tr>\\n\\t\\t\\t\\t\\n\\t\\t\\t\\t\\n\\t\\t\\t\\n\\t\\t\\t\\n\\t\\t\\t\\n\\t\\t\\t\\n\\t\\t\\t\\n\\t\\n\\t\\t\\n\\t\\n\\t\\n\\t\\n\\n\\t\\t\\t\\t<tr>\\n\\t\\t\\t\\t<td colspan=\"7\" height=\"8\"></td>\\n\\t\\t\\t\\t</tr>\\n\\t\\t\\t\\t</table>\\n\\t\\t\\t\\t<!--- 페이지 네비게이션 시작--->\\n\\t\\t\\t\\t<table summary=\"페이지 네비게이션 리스트\" class=\"Nnavi\" align=\"center\">\\n\\t\\t\\t\\t<caption>페이지 네비게이션</caption>\\n\\t\\t\\t\\t<tr>\\t\\t\\n\\t\\t\\t\\n\\t\\t\\t\\t\\n                \\n                <td class=\"on\">\\n\\t\\t\\t\\t<a href=\"/item/sise_day.naver?code=005930&amp;page=1\"  >1</a>\\n\\t\\t\\t\\t</td>\\n<td>\\n\\t\\t\\t\\t<a href=\"/item/sise_day.naver?code=005930&amp;page=2\"  >2</a>\\n\\t\\t\\t\\t</td>\\n<td>\\n\\t\\t\\t\\t<a href=\"/item/sise_day.naver?code=005930&amp;page=3\"  >3</a>\\n\\t\\t\\t\\t</td>\\n<td>\\n\\t\\t\\t\\t<a href=\"/item/sise_day.naver?code=005930&amp;page=4\"  >4</a>\\n\\t\\t\\t\\t</td>\\n<td>\\n\\t\\t\\t\\t<a href=\"/item/sise_day.naver?code=005930&amp;page=5\"  >5</a>\\n\\t\\t\\t\\t</td>\\n<td>\\n\\t\\t\\t\\t<a href=\"/item/sise_day.naver?code=005930&amp;page=6\"  >6</a>\\n\\t\\t\\t\\t</td>\\n<td>\\n\\t\\t\\t\\t<a href=\"/item/sise_day.naver?code=005930&amp;page=7\"  >7</a>\\n\\t\\t\\t\\t</td>\\n<td>\\n\\t\\t\\t\\t<a href=\"/item/sise_day.naver?code=005930&amp;page=8\"  >8</a>\\n\\t\\t\\t\\t</td>\\n<td>\\n\\t\\t\\t\\t<a href=\"/item/sise_day.naver?code=005930&amp;page=9\"  >9</a>\\n\\t\\t\\t\\t</td>\\n<td>\\n\\t\\t\\t\\t<a href=\"/item/sise_day.naver?code=005930&amp;page=10\"  >10</a>\\n\\t\\t\\t\\t</td>\\n\\n                <td class=\"pgR\">\\n\\t\\t\\t\\t<a href=\"/item/sise_day.naver?code=005930&amp;page=11\"  >\\n\\t\\t\\t\\t다음<img src=\"https://ssl.pstatic.net/static/n/cmn/bu_pgarR.gif\" width=\"3\" height=\"5\" alt=\"\" border=\"0\">\\n\\t\\t\\t\\t</a>\\n\\t\\t\\t\\t</td>\\n\\n                <td class=\"pgRR\">\\n\\t\\t\\t\\t<a href=\"/item/sise_day.naver?code=005930&amp;page=668\"  >맨뒤\\n\\t\\t\\t\\t<img src=\"https://ssl.pstatic.net/static/n/cmn/bu_pgarRR.gif\" width=\"8\" height=\"5\" alt=\"\" border=\"0\">\\n\\t\\t\\t\\t</a>\\n\\t\\t\\t\\t</td>\\n\\n            \\n\\t\\t\\t\\t</tr>\\n\\t\\t\\t\\t</table>\\n\\t\\t\\t\\t<!--- 페이지 네비게이션 끝--->\\n\\n\\n\\t<script type=\"text/javascript\" src=\"https://ssl.pstatic.net/imgstock/static.pc/20230109162011/js/jindo.min.ns.1.5.3.euckr.js\"></script>\\n\\t<script type=\"text/javascript\" src=\"https://ssl.pstatic.net/imgstock/static.pc/20230109162011/js/lcslog.js\"></script>\\n\\t<script type=\"text/javascript\">\\n        ;(function(){\\n            var eventType = \"onpageshow\" in window ? \"pageshow\" : \"load\";\\n            jindo.$Fn(function(){\\n                lcs_do();\\n            }).attach(window, eventType);\\n        })();\\n\\t</script>\\n\\n</body>\\n'"
      ]
     },
     "execution_count": 84,
     "metadata": {},
     "output_type": "execute_result"
    }
   ],
   "source": [
    "r.text"
   ]
  },
  {
   "cell_type": "code",
   "execution_count": 41,
   "id": "b786a4b2",
   "metadata": {},
   "outputs": [],
   "source": [
    "bs = BS(r.text)"
   ]
  },
  {
   "cell_type": "code",
   "execution_count": 48,
   "id": "e211eb7a",
   "metadata": {
    "scrolled": true
   },
   "outputs": [],
   "source": [
    "rt = bs.find(\"table\", {\"class\":\"type2\"})"
   ]
  },
  {
   "cell_type": "code",
   "execution_count": 54,
   "id": "70a73646",
   "metadata": {
    "scrolled": true
   },
   "outputs": [],
   "source": [
    "#2, 3, 4, 5, 6, 10, 11, 12, 13, 14\n",
    "a = rt.findAll(\"tr\")[14]"
   ]
  },
  {
   "cell_type": "code",
   "execution_count": 56,
   "id": "6d576257",
   "metadata": {},
   "outputs": [
    {
     "data": {
      "text/plain": [
       "['2023.01.11', '60500', '100', '61000', '61200', '60300', '12310751']"
      ]
     },
     "execution_count": 56,
     "metadata": {},
     "output_type": "execute_result"
    }
   ],
   "source": [
    "[x.text.strip().replace(\",\", \"\") for x in a.findAll(\"td\")]"
   ]
  },
  {
   "cell_type": "code",
   "execution_count": 61,
   "id": "67f4e958",
   "metadata": {
    "scrolled": false
   },
   "outputs": [
    {
     "data": {
      "text/plain": [
       "[['2023.01.26', '63700', '300', '63800', '63900', '63300', '4723660'],\n",
       " ['2023.01.25', '63400', '1600', '63500', '63700', '63000', '16822710'],\n",
       " ['2023.01.20', '61800', '300', '62100', '62300', '61100', '9646327'],\n",
       " ['2023.01.19', '61500', '1100', '60500', '61500', '60400', '12808490'],\n",
       " ['2023.01.18', '60400', '600', '60700', '61000', '59900', '11584041'],\n",
       " ['2023.01.17', '61000', '100', '61200', '61500', '60600', '9831456'],\n",
       " ['2023.01.16', '61100', '300', '61300', '61600', '60800', '10039972'],\n",
       " ['2023.01.13', '60800', '300', '60500', '61200', '60400', '12510328'],\n",
       " ['2023.01.12', '60500', '0', '61100', '61200', '59900', '16102561'],\n",
       " ['2023.01.11', '60500', '100', '61000', '61200', '60300', '12310751']]"
      ]
     },
     "execution_count": 61,
     "metadata": {},
     "output_type": "execute_result"
    }
   ],
   "source": [
    "[[x.text.strip().replace(\",\", \"\") for x in rt.findAll(\"tr\")[cnt].findAll(\"td\")] for cnt in [2, 3, 4, 5, 6, 10, 11, 12, 13, 14]]"
   ]
  },
  {
   "cell_type": "code",
   "execution_count": 62,
   "id": "5231195c",
   "metadata": {},
   "outputs": [
    {
     "data": {
      "text/plain": [
       "[['2023.01.26', '63700', '300', '63800', '63900', '63300', '4723660'],\n",
       " ['2023.01.25', '63400', '1600', '63500', '63700', '63000', '16822710'],\n",
       " ['2023.01.20', '61800', '300', '62100', '62300', '61100', '9646327'],\n",
       " ['2023.01.19', '61500', '1100', '60500', '61500', '60400', '12808490'],\n",
       " ['2023.01.18', '60400', '600', '60700', '61000', '59900', '11584041'],\n",
       " ['2023.01.17', '61000', '100', '61200', '61500', '60600', '9831456'],\n",
       " ['2023.01.16', '61100', '300', '61300', '61600', '60800', '10039972'],\n",
       " ['2023.01.13', '60800', '300', '60500', '61200', '60400', '12510328'],\n",
       " ['2023.01.12', '60500', '0', '61100', '61200', '59900', '16102561'],\n",
       " ['2023.01.11', '60500', '100', '61000', '61200', '60300', '12310751']]"
      ]
     },
     "execution_count": 62,
     "metadata": {},
     "output_type": "execute_result"
    }
   ],
   "source": [
    "result = []\n",
    "for cnt in [2, 3, 4, 5, 6, 10, 11, 12, 13, 14]:\n",
    "    tmp = rt.findAll(\"tr\")[cnt]\n",
    "    result.append([x.text.strip().replace(\",\", \"\") for x in tmp.findAll(\"td\")])\n",
    "result"
   ]
  },
  {
   "cell_type": "code",
   "execution_count": 101,
   "id": "e3ec910d",
   "metadata": {},
   "outputs": [],
   "source": [
    "def get_stock(code, s_page=1, e_page=None):\n",
    "    head = {\"user-agent\": \"Mozilla/5.0 (Windows NT 10.0; Win64; x64) AppleWebKit/537.36 (KHTML, like Gecko) Chrome/109.0.0.0 Safari/537.36\"}\n",
    "    result = []\n",
    "    for page in range(s_page, e_page+1):\n",
    "        url = f\"https://finance.naver.com/item/sise_day.naver?code={code}&page={str(page)}\"\n",
    "        r = requests.get(url, headers = head)\n",
    "        bs = BS(r.text)\n",
    "        rt = bs.find(\"table\", {\"class\":\"type2\"})\n",
    "        result.extend([[x.text.strip().replace(\",\", \"\") for x in rt.findAll(\"tr\")[cnt].findAll(\"td\")] for cnt in [2, 3, 4, 5, 6, 10, 11, 12, 13, 14]])\n",
    "    return result"
   ]
  },
  {
   "cell_type": "code",
   "execution_count": 111,
   "id": "76f7b4d8",
   "metadata": {},
   "outputs": [],
   "source": [
    "stocks = get_stock(\"005930\", 1, 3)"
   ]
  },
  {
   "cell_type": "code",
   "execution_count": 112,
   "id": "045707a7",
   "metadata": {},
   "outputs": [
    {
     "data": {
      "text/plain": [
       "[['2023.01.26', '63800', '400', '63800', '63900', '63300', '9297529'],\n",
       " ['2023.01.25', '63400', '1600', '63500', '63700', '63000', '16822710'],\n",
       " ['2023.01.20', '61800', '300', '62100', '62300', '61100', '9646327'],\n",
       " ['2023.01.19', '61500', '1100', '60500', '61500', '60400', '12808490'],\n",
       " ['2023.01.18', '60400', '600', '60700', '61000', '59900', '11584041'],\n",
       " ['2023.01.17', '61000', '100', '61200', '61500', '60600', '9831456'],\n",
       " ['2023.01.16', '61100', '300', '61300', '61600', '60800', '10039972'],\n",
       " ['2023.01.13', '60800', '300', '60500', '61200', '60400', '12510328'],\n",
       " ['2023.01.12', '60500', '0', '61100', '61200', '59900', '16102561'],\n",
       " ['2023.01.11', '60500', '100', '61000', '61200', '60300', '12310751'],\n",
       " ['2023.01.10', '60400', '300', '60200', '61100', '59900', '14859797'],\n",
       " ['2023.01.09', '60700', '1700', '59700', '60700', '59600', '18640107'],\n",
       " ['2023.01.06', '59000', '800', '58300', '59400', '57900', '17334989'],\n",
       " ['2023.01.05', '58200', '400', '58200', '58800', '57600', '15682826'],\n",
       " ['2023.01.04', '57800', '2400', '55700', '58000', '55600', '20188071'],\n",
       " ['2023.01.03', '55400', '100', '55400', '56000', '54500', '13547030'],\n",
       " ['2023.01.02', '55500', '200', '55500', '56100', '55200', '10031448'],\n",
       " ['2022.12.29', '55300', '1300', '56000', '56200', '55300', '11295935'],\n",
       " ['2022.12.28', '56600', '1500', '57600', '57600', '56400', '14665410'],\n",
       " ['2022.12.27', '58100', '200', '58000', '58400', '57900', '10667027'],\n",
       " ['2022.12.26', '57900', '200', '58000', '58100', '57700', '6756411'],\n",
       " ['2022.12.23', '58100', '1000', '58200', '58400', '57700', '9829407'],\n",
       " ['2022.12.22', '59100', '1100', '58100', '59100', '58100', '10720630'],\n",
       " ['2022.12.21', '58000', '600', '58700', '59100', '58000', '10356971'],\n",
       " ['2022.12.20', '58600', '900', '59000', '59100', '58500', '9284761'],\n",
       " ['2022.12.19', '59500', '0', '59500', '59900', '59100', '7696187'],\n",
       " ['2022.12.16', '59500', '200', '58300', '59500', '58300', '13033596'],\n",
       " ['2022.12.15', '59300', '1200', '59800', '60200', '59300', '8716039'],\n",
       " ['2022.12.14', '60500', '800', '59800', '60600', '59800', '8207485'],\n",
       " ['2022.12.13', '59700', '200', '59600', '60300', '59400', '9040873']]"
      ]
     },
     "execution_count": 112,
     "metadata": {},
     "output_type": "execute_result"
    }
   ],
   "source": [
    "stocks"
   ]
  },
  {
   "cell_type": "code",
   "execution_count": 108,
   "id": "ae59d1aa",
   "metadata": {
    "scrolled": true
   },
   "outputs": [],
   "source": [
    "stock_file = open(f\"./stocks/stocks.txt\", \"w\", encoding=\"UTF-8\")\n",
    "for x in stocks:\n",
    "    stock_file.write(str(x) + \"\\n\")\n",
    "stock_file.close()"
   ]
  }
 ],
 "metadata": {
  "kernelspec": {
   "display_name": "Python 3 (ipykernel)",
   "language": "python",
   "name": "python3"
  },
  "language_info": {
   "codemirror_mode": {
    "name": "ipython",
    "version": 3
   },
   "file_extension": ".py",
   "mimetype": "text/x-python",
   "name": "python",
   "nbconvert_exporter": "python",
   "pygments_lexer": "ipython3",
   "version": "3.9.13"
  }
 },
 "nbformat": 4,
 "nbformat_minor": 5
}
