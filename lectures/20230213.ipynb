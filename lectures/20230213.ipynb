{
 "cells": [
  {
   "cell_type": "code",
   "execution_count": 1,
   "metadata": {},
   "outputs": [],
   "source": [
    "import pandas as pd\n",
    "import numpy as np"
   ]
  },
  {
   "cell_type": "code",
   "execution_count": 2,
   "metadata": {},
   "outputs": [],
   "source": [
    "import matplotlib.pyplot as plt\n",
    "import seaborn as sns"
   ]
  },
  {
   "cell_type": "code",
   "execution_count": 3,
   "metadata": {},
   "outputs": [],
   "source": [
    "from matplotlib import font_manager, rc \n",
    "import matplotlib.font_manager as fm\n",
    "\n",
    "for font_path in fm.findSystemFonts(fontpaths = None, fontext = 'ttf'):\n",
    "    if 'D2Coding' in font_path:\n",
    "        font = font_manager.FontProperties(fname=font_path).get_name()\n",
    "        rc('font', family=font)\n",
    "        break "
   ]
  },
  {
   "cell_type": "code",
   "execution_count": 4,
   "metadata": {},
   "outputs": [],
   "source": [
    "DATA_PATH = \"./data/titanic/\"\n",
    "\n",
    "df = pd.read_csv(DATA_PATH+\"train.csv\")\n",
    "SEED = 42"
   ]
  },
  {
   "cell_type": "code",
   "execution_count": 5,
   "metadata": {},
   "outputs": [
    {
     "name": "stdout",
     "output_type": "stream",
     "text": [
      "<class 'pandas.core.frame.DataFrame'>\n",
      "RangeIndex: 891 entries, 0 to 890\n",
      "Data columns (total 12 columns):\n",
      " #   Column       Non-Null Count  Dtype  \n",
      "---  ------       --------------  -----  \n",
      " 0   PassengerId  891 non-null    int64  \n",
      " 1   Survived     891 non-null    int64  \n",
      " 2   Pclass       891 non-null    int64  \n",
      " 3   Name         891 non-null    object \n",
      " 4   Sex          891 non-null    object \n",
      " 5   Age          714 non-null    float64\n",
      " 6   SibSp        891 non-null    int64  \n",
      " 7   Parch        891 non-null    int64  \n",
      " 8   Ticket       891 non-null    object \n",
      " 9   Fare         891 non-null    float64\n",
      " 10  Cabin        204 non-null    object \n",
      " 11  Embarked     889 non-null    object \n",
      "dtypes: float64(2), int64(5), object(5)\n",
      "memory usage: 83.7+ KB\n"
     ]
    },
    {
     "data": {
      "text/plain": [
       "(891, 12)"
      ]
     },
     "execution_count": 5,
     "metadata": {},
     "output_type": "execute_result"
    }
   ],
   "source": [
    "df.info()\n",
    "df.shape"
   ]
  },
  {
   "cell_type": "code",
   "execution_count": 6,
   "metadata": {},
   "outputs": [
    {
     "name": "stdout",
     "output_type": "stream",
     "text": [
      "<class 'pandas.core.frame.DataFrame'>\n",
      "RangeIndex: 891 entries, 0 to 890\n",
      "Data columns (total 12 columns):\n",
      " #   Column       Non-Null Count  Dtype  \n",
      "---  ------       --------------  -----  \n",
      " 0   passengerid  891 non-null    int64  \n",
      " 1   survived     891 non-null    int64  \n",
      " 2   pclass       891 non-null    int64  \n",
      " 3   name         891 non-null    object \n",
      " 4   sex          891 non-null    object \n",
      " 5   age          714 non-null    float64\n",
      " 6   sibsp        891 non-null    int64  \n",
      " 7   parch        891 non-null    int64  \n",
      " 8   ticket       891 non-null    object \n",
      " 9   fare         891 non-null    float64\n",
      " 10  cabin        204 non-null    object \n",
      " 11  embarked     889 non-null    object \n",
      "dtypes: float64(2), int64(5), object(5)\n",
      "memory usage: 83.7+ KB\n"
     ]
    }
   ],
   "source": [
    "df.columns = [x.lower() for x in df.columns]\n",
    "df.info()"
   ]
  },
  {
   "cell_type": "code",
   "execution_count": 7,
   "metadata": {},
   "outputs": [
    {
     "data": {
      "text/html": [
       "<div>\n",
       "<style scoped>\n",
       "    .dataframe tbody tr th:only-of-type {\n",
       "        vertical-align: middle;\n",
       "    }\n",
       "\n",
       "    .dataframe tbody tr th {\n",
       "        vertical-align: top;\n",
       "    }\n",
       "\n",
       "    .dataframe thead th {\n",
       "        text-align: right;\n",
       "    }\n",
       "</style>\n",
       "<table border=\"1\" class=\"dataframe\">\n",
       "  <thead>\n",
       "    <tr style=\"text-align: right;\">\n",
       "      <th></th>\n",
       "      <th>passengerid</th>\n",
       "      <th>survived</th>\n",
       "      <th>pclass</th>\n",
       "      <th>name</th>\n",
       "      <th>sex</th>\n",
       "      <th>age</th>\n",
       "      <th>sibsp</th>\n",
       "      <th>parch</th>\n",
       "      <th>ticket</th>\n",
       "      <th>fare</th>\n",
       "      <th>cabin</th>\n",
       "      <th>embarked</th>\n",
       "    </tr>\n",
       "  </thead>\n",
       "  <tbody>\n",
       "    <tr>\n",
       "      <th>886</th>\n",
       "      <td>887</td>\n",
       "      <td>0</td>\n",
       "      <td>2</td>\n",
       "      <td>Montvila, Rev. Juozas</td>\n",
       "      <td>male</td>\n",
       "      <td>27.0</td>\n",
       "      <td>0</td>\n",
       "      <td>0</td>\n",
       "      <td>211536</td>\n",
       "      <td>13.00</td>\n",
       "      <td>NaN</td>\n",
       "      <td>S</td>\n",
       "    </tr>\n",
       "    <tr>\n",
       "      <th>887</th>\n",
       "      <td>888</td>\n",
       "      <td>1</td>\n",
       "      <td>1</td>\n",
       "      <td>Graham, Miss. Margaret Edith</td>\n",
       "      <td>female</td>\n",
       "      <td>19.0</td>\n",
       "      <td>0</td>\n",
       "      <td>0</td>\n",
       "      <td>112053</td>\n",
       "      <td>30.00</td>\n",
       "      <td>B42</td>\n",
       "      <td>S</td>\n",
       "    </tr>\n",
       "    <tr>\n",
       "      <th>888</th>\n",
       "      <td>889</td>\n",
       "      <td>0</td>\n",
       "      <td>3</td>\n",
       "      <td>Johnston, Miss. Catherine Helen \"Carrie\"</td>\n",
       "      <td>female</td>\n",
       "      <td>NaN</td>\n",
       "      <td>1</td>\n",
       "      <td>2</td>\n",
       "      <td>W./C. 6607</td>\n",
       "      <td>23.45</td>\n",
       "      <td>NaN</td>\n",
       "      <td>S</td>\n",
       "    </tr>\n",
       "    <tr>\n",
       "      <th>889</th>\n",
       "      <td>890</td>\n",
       "      <td>1</td>\n",
       "      <td>1</td>\n",
       "      <td>Behr, Mr. Karl Howell</td>\n",
       "      <td>male</td>\n",
       "      <td>26.0</td>\n",
       "      <td>0</td>\n",
       "      <td>0</td>\n",
       "      <td>111369</td>\n",
       "      <td>30.00</td>\n",
       "      <td>C148</td>\n",
       "      <td>C</td>\n",
       "    </tr>\n",
       "    <tr>\n",
       "      <th>890</th>\n",
       "      <td>891</td>\n",
       "      <td>0</td>\n",
       "      <td>3</td>\n",
       "      <td>Dooley, Mr. Patrick</td>\n",
       "      <td>male</td>\n",
       "      <td>32.0</td>\n",
       "      <td>0</td>\n",
       "      <td>0</td>\n",
       "      <td>370376</td>\n",
       "      <td>7.75</td>\n",
       "      <td>NaN</td>\n",
       "      <td>Q</td>\n",
       "    </tr>\n",
       "  </tbody>\n",
       "</table>\n",
       "</div>"
      ],
      "text/plain": [
       "     passengerid  survived  pclass                                      name  \\\n",
       "886          887         0       2                     Montvila, Rev. Juozas   \n",
       "887          888         1       1              Graham, Miss. Margaret Edith   \n",
       "888          889         0       3  Johnston, Miss. Catherine Helen \"Carrie\"   \n",
       "889          890         1       1                     Behr, Mr. Karl Howell   \n",
       "890          891         0       3                       Dooley, Mr. Patrick   \n",
       "\n",
       "        sex   age  sibsp  parch      ticket   fare cabin embarked  \n",
       "886    male  27.0      0      0      211536  13.00   NaN        S  \n",
       "887  female  19.0      0      0      112053  30.00   B42        S  \n",
       "888  female   NaN      1      2  W./C. 6607  23.45   NaN        S  \n",
       "889    male  26.0      0      0      111369  30.00  C148        C  \n",
       "890    male  32.0      0      0      370376   7.75   NaN        Q  "
      ]
     },
     "execution_count": 7,
     "metadata": {},
     "output_type": "execute_result"
    }
   ],
   "source": [
    "df.tail()"
   ]
  },
  {
   "attachments": {},
   "cell_type": "markdown",
   "metadata": {},
   "source": [
    "### 타겟 데이터 확인"
   ]
  },
  {
   "cell_type": "code",
   "execution_count": 8,
   "metadata": {},
   "outputs": [
    {
     "data": {
      "text/plain": [
       "[0, 1, 1, 1, 0]\n",
       "Categories (2, int64): [0, 1]"
      ]
     },
     "execution_count": 8,
     "metadata": {},
     "output_type": "execute_result"
    }
   ],
   "source": [
    "new_survived = pd.Categorical(df[\"survived\"])\n",
    "new_survived[:5]"
   ]
  },
  {
   "cell_type": "code",
   "execution_count": 9,
   "metadata": {},
   "outputs": [
    {
     "name": "stdout",
     "output_type": "stream",
     "text": [
      "['Died', 'Survived', 'Survived', 'Survived', 'Died']\n",
      "Categories (2, object): ['Died', 'Survived']\n"
     ]
    },
    {
     "data": {
      "text/html": [
       "<div>\n",
       "<style scoped>\n",
       "    .dataframe tbody tr th:only-of-type {\n",
       "        vertical-align: middle;\n",
       "    }\n",
       "\n",
       "    .dataframe tbody tr th {\n",
       "        vertical-align: top;\n",
       "    }\n",
       "\n",
       "    .dataframe thead th {\n",
       "        text-align: right;\n",
       "    }\n",
       "</style>\n",
       "<table border=\"1\" class=\"dataframe\">\n",
       "  <thead>\n",
       "    <tr style=\"text-align: right;\">\n",
       "      <th></th>\n",
       "      <th>counts</th>\n",
       "      <th>freqs</th>\n",
       "    </tr>\n",
       "    <tr>\n",
       "      <th>categories</th>\n",
       "      <th></th>\n",
       "      <th></th>\n",
       "    </tr>\n",
       "  </thead>\n",
       "  <tbody>\n",
       "    <tr>\n",
       "      <th>Died</th>\n",
       "      <td>549</td>\n",
       "      <td>0.616162</td>\n",
       "    </tr>\n",
       "    <tr>\n",
       "      <th>Survived</th>\n",
       "      <td>342</td>\n",
       "      <td>0.383838</td>\n",
       "    </tr>\n",
       "  </tbody>\n",
       "</table>\n",
       "</div>"
      ],
      "text/plain": [
       "            counts     freqs\n",
       "categories                  \n",
       "Died           549  0.616162\n",
       "Survived       342  0.383838"
      ]
     },
     "execution_count": 9,
     "metadata": {},
     "output_type": "execute_result"
    }
   ],
   "source": [
    "new_survived = new_survived.rename_categories([\"Died\", \"Survived\"])\n",
    "print(new_survived[:5])\n",
    "new_survived.describe()"
   ]
  },
  {
   "attachments": {},
   "cell_type": "markdown",
   "metadata": {},
   "source": [
    "### 데이터 분리"
   ]
  },
  {
   "cell_type": "code",
   "execution_count": 10,
   "metadata": {},
   "outputs": [],
   "source": [
    "from sklearn.model_selection import train_test_split"
   ]
  },
  {
   "cell_type": "code",
   "execution_count": 11,
   "metadata": {},
   "outputs": [
    {
     "data": {
      "text/plain": [
       "((712, 11), (179, 11), (712,), (179,))"
      ]
     },
     "execution_count": 11,
     "metadata": {},
     "output_type": "execute_result"
    }
   ],
   "source": [
    "X = df.drop('survived', axis=1)\n",
    "y = df['survived']\n",
    "\n",
    "X_tr, X_te, y_tr, y_te = train_test_split(X, y, random_state=SEED, test_size=0.2)\n",
    "X_tr = X_tr.reset_index(drop=True)\n",
    "X_te = X_te.reset_index(drop=True)\n",
    "\n",
    "X_tr.shape, X_te.shape, y_tr.shape, y_te.shape"
   ]
  },
  {
   "cell_type": "code",
   "execution_count": 12,
   "metadata": {},
   "outputs": [
    {
     "name": "stdout",
     "output_type": "stream",
     "text": [
      "['Died', 'Died', 'Died', 'Died', 'Died']\n",
      "Categories (2, object): ['Died', 'Survived']\n"
     ]
    },
    {
     "data": {
      "text/html": [
       "<div>\n",
       "<style scoped>\n",
       "    .dataframe tbody tr th:only-of-type {\n",
       "        vertical-align: middle;\n",
       "    }\n",
       "\n",
       "    .dataframe tbody tr th {\n",
       "        vertical-align: top;\n",
       "    }\n",
       "\n",
       "    .dataframe thead th {\n",
       "        text-align: right;\n",
       "    }\n",
       "</style>\n",
       "<table border=\"1\" class=\"dataframe\">\n",
       "  <thead>\n",
       "    <tr style=\"text-align: right;\">\n",
       "      <th></th>\n",
       "      <th>counts</th>\n",
       "      <th>freqs</th>\n",
       "    </tr>\n",
       "    <tr>\n",
       "      <th>categories</th>\n",
       "      <th></th>\n",
       "      <th></th>\n",
       "    </tr>\n",
       "  </thead>\n",
       "  <tbody>\n",
       "    <tr>\n",
       "      <th>Died</th>\n",
       "      <td>444</td>\n",
       "      <td>0.623596</td>\n",
       "    </tr>\n",
       "    <tr>\n",
       "      <th>Survived</th>\n",
       "      <td>268</td>\n",
       "      <td>0.376404</td>\n",
       "    </tr>\n",
       "  </tbody>\n",
       "</table>\n",
       "</div>"
      ],
      "text/plain": [
       "            counts     freqs\n",
       "categories                  \n",
       "Died           444  0.623596\n",
       "Survived       268  0.376404"
      ]
     },
     "execution_count": 12,
     "metadata": {},
     "output_type": "execute_result"
    }
   ],
   "source": [
    "new_survived = pd.Categorical(y_tr)\n",
    "new_survived = new_survived.rename_categories([\"Died\", \"Survived\"])\n",
    "print(new_survived[:5])\n",
    "new_survived.describe()"
   ]
  },
  {
   "attachments": {},
   "cell_type": "markdown",
   "metadata": {},
   "source": [
    "### Data Cleaning\n",
    "> 모델이 학습을 할 수 있도록 데이터를 깨끗하게 다듬는 작업\n",
    "\n",
    "1. 완결성\n",
    "> 결측값을 가능하면 제거해야 함\n",
    "2. 유일성\n",
    "> 중복된 데이터를 가능하면 하나만 남겨야 함\n",
    "3. 통일성\n",
    "> 동일한 데이터 형식으로 맞춰야 함"
   ]
  },
  {
   "attachments": {},
   "cell_type": "markdown",
   "metadata": {},
   "source": [
    "#### 중복 데이터 처리"
   ]
  },
  {
   "cell_type": "code",
   "execution_count": 13,
   "metadata": {},
   "outputs": [
    {
     "name": "stdout",
     "output_type": "stream",
     "text": [
      "before: (891, 12)\n",
      "after: (891, 12)\n"
     ]
    }
   ],
   "source": [
    "# 중복제거\n",
    "# 지금 이 데이터는 중복제거 전과 후가 같으므로 중복된 데이터가 없음을 확인할 수 있음\n",
    "print(f\"before: {df.shape}\")\n",
    "df.drop_duplicates(keep='first', inplace=True, ignore_index=True, )\n",
    "print(f\"after: {df.shape}\")"
   ]
  },
  {
   "cell_type": "code",
   "execution_count": 14,
   "metadata": {},
   "outputs": [
    {
     "data": {
      "text/plain": [
       "(891, 891)"
      ]
     },
     "execution_count": 14,
     "metadata": {},
     "output_type": "execute_result"
    }
   ],
   "source": [
    "# passengerid에 중복값이 있는지 확인\n",
    "df['passengerid'].nunique(), df.shape[0]"
   ]
  },
  {
   "attachments": {},
   "cell_type": "markdown",
   "metadata": {},
   "source": [
    "모델이 학습을 하기 위해선 Row 전체가 중복된 데이터도 좋지 않지만, 모든 값이 unique한 column도 학습할 수 없기 때문에 없애는 것이 좋다."
   ]
  },
  {
   "cell_type": "code",
   "execution_count": 15,
   "metadata": {},
   "outputs": [
    {
     "name": "stdout",
     "output_type": "stream",
     "text": [
      "Index(['survived', 'pclass', 'name', 'sex', 'age', 'sibsp', 'parch', 'ticket',\n",
      "       'fare', 'cabin', 'embarked'],\n",
      "      dtype='object')\n"
     ]
    },
    {
     "data": {
      "text/html": [
       "<div>\n",
       "<style scoped>\n",
       "    .dataframe tbody tr th:only-of-type {\n",
       "        vertical-align: middle;\n",
       "    }\n",
       "\n",
       "    .dataframe tbody tr th {\n",
       "        vertical-align: top;\n",
       "    }\n",
       "\n",
       "    .dataframe thead th {\n",
       "        text-align: right;\n",
       "    }\n",
       "</style>\n",
       "<table border=\"1\" class=\"dataframe\">\n",
       "  <thead>\n",
       "    <tr style=\"text-align: right;\">\n",
       "      <th></th>\n",
       "      <th>survived</th>\n",
       "      <th>pclass</th>\n",
       "      <th>name</th>\n",
       "      <th>sex</th>\n",
       "      <th>age</th>\n",
       "      <th>sibsp</th>\n",
       "      <th>parch</th>\n",
       "      <th>ticket</th>\n",
       "      <th>fare</th>\n",
       "      <th>cabin</th>\n",
       "      <th>embarked</th>\n",
       "    </tr>\n",
       "  </thead>\n",
       "  <tbody>\n",
       "    <tr>\n",
       "      <th>0</th>\n",
       "      <td>0</td>\n",
       "      <td>3</td>\n",
       "      <td>Braund, Mr. Owen Harris</td>\n",
       "      <td>male</td>\n",
       "      <td>22.0</td>\n",
       "      <td>1</td>\n",
       "      <td>0</td>\n",
       "      <td>A/5 21171</td>\n",
       "      <td>7.2500</td>\n",
       "      <td>NaN</td>\n",
       "      <td>S</td>\n",
       "    </tr>\n",
       "    <tr>\n",
       "      <th>1</th>\n",
       "      <td>1</td>\n",
       "      <td>1</td>\n",
       "      <td>Cumings, Mrs. John Bradley (Florence Briggs Th...</td>\n",
       "      <td>female</td>\n",
       "      <td>38.0</td>\n",
       "      <td>1</td>\n",
       "      <td>0</td>\n",
       "      <td>PC 17599</td>\n",
       "      <td>71.2833</td>\n",
       "      <td>C85</td>\n",
       "      <td>C</td>\n",
       "    </tr>\n",
       "    <tr>\n",
       "      <th>2</th>\n",
       "      <td>1</td>\n",
       "      <td>3</td>\n",
       "      <td>Heikkinen, Miss. Laina</td>\n",
       "      <td>female</td>\n",
       "      <td>26.0</td>\n",
       "      <td>0</td>\n",
       "      <td>0</td>\n",
       "      <td>STON/O2. 3101282</td>\n",
       "      <td>7.9250</td>\n",
       "      <td>NaN</td>\n",
       "      <td>S</td>\n",
       "    </tr>\n",
       "    <tr>\n",
       "      <th>3</th>\n",
       "      <td>1</td>\n",
       "      <td>1</td>\n",
       "      <td>Futrelle, Mrs. Jacques Heath (Lily May Peel)</td>\n",
       "      <td>female</td>\n",
       "      <td>35.0</td>\n",
       "      <td>1</td>\n",
       "      <td>0</td>\n",
       "      <td>113803</td>\n",
       "      <td>53.1000</td>\n",
       "      <td>C123</td>\n",
       "      <td>S</td>\n",
       "    </tr>\n",
       "    <tr>\n",
       "      <th>4</th>\n",
       "      <td>0</td>\n",
       "      <td>3</td>\n",
       "      <td>Allen, Mr. William Henry</td>\n",
       "      <td>male</td>\n",
       "      <td>35.0</td>\n",
       "      <td>0</td>\n",
       "      <td>0</td>\n",
       "      <td>373450</td>\n",
       "      <td>8.0500</td>\n",
       "      <td>NaN</td>\n",
       "      <td>S</td>\n",
       "    </tr>\n",
       "  </tbody>\n",
       "</table>\n",
       "</div>"
      ],
      "text/plain": [
       "   survived  pclass                                               name  \\\n",
       "0         0       3                            Braund, Mr. Owen Harris   \n",
       "1         1       1  Cumings, Mrs. John Bradley (Florence Briggs Th...   \n",
       "2         1       3                             Heikkinen, Miss. Laina   \n",
       "3         1       1       Futrelle, Mrs. Jacques Heath (Lily May Peel)   \n",
       "4         0       3                           Allen, Mr. William Henry   \n",
       "\n",
       "      sex   age  sibsp  parch            ticket     fare cabin embarked  \n",
       "0    male  22.0      1      0         A/5 21171   7.2500   NaN        S  \n",
       "1  female  38.0      1      0          PC 17599  71.2833   C85        C  \n",
       "2  female  26.0      0      0  STON/O2. 3101282   7.9250   NaN        S  \n",
       "3  female  35.0      1      0            113803  53.1000  C123        S  \n",
       "4    male  35.0      0      0            373450   8.0500   NaN        S  "
      ]
     },
     "execution_count": 15,
     "metadata": {},
     "output_type": "execute_result"
    }
   ],
   "source": [
    "# passengerid는 모든 값이 unique하기 때문에 삭제\n",
    "df.drop('passengerid', axis=1, inplace=True)\n",
    "print(f\"{df.columns}\")\n",
    "df.head()"
   ]
  },
  {
   "attachments": {},
   "cell_type": "markdown",
   "metadata": {},
   "source": [
    "#### 결측치(Missing Value)\n",
    "\n",
    "> 인지할 수 없는 데이터들\n",
    "\n",
    "- NaN\n",
    "- null\n",
    "- undefined\n",
    "\n",
    "결측치를 모두 제거할 경우, 막대한 데이터 손실을 일으킬 수 있음   \n",
    "결측치를 남길 경우, 모델의 학습에 악영향을 미칠 수 있음"
   ]
  },
  {
   "attachments": {},
   "cell_type": "markdown",
   "metadata": {},
   "source": [
    "##### 결측치 유형 파악\n",
    "\n",
    "- 완전 무작위 결측\n",
    "> \n",
    "- 무작위 결측\n",
    "> \n",
    "- 비무작위 결측\n",
    "> \n",
    "<br>\n",
    "\n",
    "ex) 성별(X)에 따라 체중(y)을 예측하기 위해 설문조사로 데이터를 모았다고 하자.   \n",
    "- 완전 무작위 결측\n",
    "> 그냥 체중을 응답하지 않은 경우, y가 누락된 이유는 다른 X, y값과는 관련이 없음.\n",
    "- 무작위 결측\n",
    "> 여성(X)의 경우 체중에 잘 응답하지 않았던 경우   \n",
    "> y가 누락된 이유는 성별(X)의 영향임.\n",
    "- 비무작위 결측\n",
    "> 체중이 무거운 사람은 자신의 체중을 잘 응답하지 않음.   \n",
    "> y가 누락된 이유는 y의 값 그 자체의 영향임."
   ]
  },
  {
   "cell_type": "code",
   "execution_count": 16,
   "metadata": {},
   "outputs": [
    {
     "name": "stdout",
     "output_type": "stream",
     "text": [
      "<class 'pandas.core.frame.DataFrame'>\n",
      "RangeIndex: 712 entries, 0 to 711\n",
      "Data columns (total 11 columns):\n",
      " #   Column       Non-Null Count  Dtype  \n",
      "---  ------       --------------  -----  \n",
      " 0   passengerid  712 non-null    int64  \n",
      " 1   pclass       712 non-null    int64  \n",
      " 2   name         712 non-null    object \n",
      " 3   sex          712 non-null    object \n",
      " 4   age          572 non-null    float64\n",
      " 5   sibsp        712 non-null    int64  \n",
      " 6   parch        712 non-null    int64  \n",
      " 7   ticket       712 non-null    object \n",
      " 8   fare         712 non-null    float64\n",
      " 9   cabin        159 non-null    object \n",
      " 10  embarked     710 non-null    object \n",
      "dtypes: float64(2), int64(4), object(5)\n",
      "memory usage: 61.3+ KB\n"
     ]
    }
   ],
   "source": [
    "X_tr.info()"
   ]
  },
  {
   "cell_type": "code",
   "execution_count": 17,
   "metadata": {},
   "outputs": [
    {
     "data": {
      "text/plain": [
       "(695, 712)"
      ]
     },
     "execution_count": 17,
     "metadata": {},
     "output_type": "execute_result"
    }
   ],
   "source": [
    "X_tr.isnull().sum().sum(), X_tr.shape[0]"
   ]
  },
  {
   "cell_type": "code",
   "execution_count": 18,
   "metadata": {},
   "outputs": [
    {
     "data": {
      "text/plain": [
       "cabin          553\n",
       "age            140\n",
       "embarked         2\n",
       "passengerid      0\n",
       "pclass           0\n",
       "name             0\n",
       "sex              0\n",
       "sibsp            0\n",
       "parch            0\n",
       "ticket           0\n",
       "fare             0\n",
       "dtype: int64"
      ]
     },
     "execution_count": 18,
     "metadata": {},
     "output_type": "execute_result"
    }
   ],
   "source": [
    "# 각 컬럼별 결측치의 수\n",
    "X_tr.isnull().sum().sort_values(ascending=False)"
   ]
  },
  {
   "cell_type": "code",
   "execution_count": 19,
   "metadata": {},
   "outputs": [
    {
     "data": {
      "text/plain": [
       "cabin          0.7767\n",
       "age            0.1966\n",
       "embarked       0.0028\n",
       "passengerid    0.0000\n",
       "pclass         0.0000\n",
       "name           0.0000\n",
       "sex            0.0000\n",
       "sibsp          0.0000\n",
       "parch          0.0000\n",
       "ticket         0.0000\n",
       "fare           0.0000\n",
       "dtype: float64"
      ]
     },
     "execution_count": 19,
     "metadata": {},
     "output_type": "execute_result"
    }
   ],
   "source": [
    "# 각 컬럼별 결측치 비율\n",
    "(X_tr.isnull().sum() / X_tr.shape[0]).round(4).sort_values(ascending=False)"
   ]
  },
  {
   "cell_type": "code",
   "execution_count": 20,
   "metadata": {},
   "outputs": [
    {
     "name": "stderr",
     "output_type": "stream",
     "text": [
      "findfont: Font family 'D2Coding ligature' not found.\n",
      "findfont: Font family 'D2Coding ligature' not found.\n",
      "findfont: Font family 'D2Coding ligature' not found.\n",
      "findfont: Font family 'D2Coding ligature' not found.\n",
      "findfont: Font family 'D2Coding ligature' not found.\n",
      "findfont: Font family 'D2Coding ligature' not found.\n",
      "findfont: Font family 'D2Coding ligature' not found.\n",
      "findfont: Font family 'D2Coding ligature' not found.\n",
      "findfont: Font family 'D2Coding ligature' not found.\n",
      "findfont: Font family 'D2Coding ligature' not found.\n",
      "findfont: Font family 'D2Coding ligature' not found.\n",
      "findfont: Font family 'D2Coding ligature' not found.\n",
      "findfont: Font family 'D2Coding ligature' not found.\n",
      "findfont: Font family 'D2Coding ligature' not found.\n",
      "findfont: Font family 'D2Coding ligature' not found.\n",
      "findfont: Font family 'D2Coding ligature' not found.\n",
      "findfont: Font family 'D2Coding ligature' not found.\n",
      "findfont: Font family 'D2Coding ligature' not found.\n",
      "findfont: Font family 'D2Coding ligature' not found.\n",
      "findfont: Font family 'D2Coding ligature' not found.\n",
      "findfont: Font family 'D2Coding ligature' not found.\n",
      "findfont: Font family 'D2Coding ligature' not found.\n",
      "findfont: Font family 'D2Coding ligature' not found.\n"
     ]
    },
    {
     "data": {
      "text/plain": [
       "<AxesSubplot: >"
      ]
     },
     "execution_count": 20,
     "metadata": {},
     "output_type": "execute_result"
    },
    {
     "name": "stderr",
     "output_type": "stream",
     "text": [
      "findfont: Font family 'D2Coding ligature' not found.\n",
      "findfont: Font family 'D2Coding ligature' not found.\n",
      "findfont: Font family 'D2Coding ligature' not found.\n",
      "findfont: Font family 'D2Coding ligature' not found.\n",
      "findfont: Font family 'D2Coding ligature' not found.\n",
      "findfont: Font family 'D2Coding ligature' not found.\n",
      "findfont: Font family 'D2Coding ligature' not found.\n",
      "findfont: Font family 'D2Coding ligature' not found.\n",
      "findfont: Font family 'D2Coding ligature' not found.\n",
      "findfont: Font family 'D2Coding ligature' not found.\n",
      "findfont: Font family 'D2Coding ligature' not found.\n",
      "findfont: Font family 'D2Coding ligature' not found.\n",
      "findfont: Font family 'D2Coding ligature' not found.\n",
      "findfont: Font family 'D2Coding ligature' not found.\n",
      "findfont: Font family 'D2Coding ligature' not found.\n",
      "findfont: Font family 'D2Coding ligature' not found.\n",
      "findfont: Font family 'D2Coding ligature' not found.\n",
      "findfont: Font family 'D2Coding ligature' not found.\n",
      "findfont: Font family 'D2Coding ligature' not found.\n",
      "findfont: Font family 'D2Coding ligature' not found.\n",
      "findfont: Font family 'D2Coding ligature' not found.\n",
      "findfont: Font family 'D2Coding ligature' not found.\n",
      "findfont: Font family 'D2Coding ligature' not found.\n",
      "findfont: Font family 'D2Coding ligature' not found.\n",
      "findfont: Font family 'D2Coding ligature' not found.\n",
      "findfont: Font family 'D2Coding ligature' not found.\n",
      "findfont: Font family 'D2Coding ligature' not found.\n",
      "findfont: Font family 'D2Coding ligature' not found.\n",
      "findfont: Font family 'D2Coding ligature' not found.\n",
      "findfont: Font family 'D2Coding ligature' not found.\n",
      "findfont: Font family 'D2Coding ligature' not found.\n",
      "findfont: Font family 'D2Coding ligature' not found.\n",
      "findfont: Font family 'D2Coding ligature' not found.\n",
      "findfont: Font family 'D2Coding ligature' not found.\n"
     ]
    },
    {
     "data": {
      "image/png": "[encoded data removed]",
      "text/plain": [
       "<Figure size 640x480 with 1 Axes>"
      ]
     },
     "metadata": {},
     "output_type": "display_data"
    }
   ],
   "source": [
    "sns.heatmap(df.isnull(), yticklabels=False, cbar=False, cmap='viridis')"
   ]
  },
  {
   "cell_type": "code",
   "execution_count": 21,
   "metadata": {},
   "outputs": [
    {
     "data": {
      "text/plain": [
       "Text(0.5, 1.0, 'Total Missing Value (%)')"
      ]
     },
     "execution_count": 21,
     "metadata": {},
     "output_type": "execute_result"
    },
    {
     "name": "stderr",
     "output_type": "stream",
     "text": [
      "findfont: Font family 'D2Coding ligature' not found.\n",
      "findfont: Font family 'D2Coding ligature' not found.\n",
      "findfont: Font family 'D2Coding ligature' not found.\n",
      "findfont: Font family 'D2Coding ligature' not found.\n",
      "findfont: Font family 'D2Coding ligature' not found.\n",
      "findfont: Font family 'D2Coding ligature' not found.\n",
      "findfont: Font family 'D2Coding ligature' not found.\n",
      "findfont: Font family 'D2Coding ligature' not found.\n",
      "findfont: Font family 'D2Coding ligature' not found.\n",
      "findfont: Font family 'D2Coding ligature' not found.\n",
      "findfont: Font family 'D2Coding ligature' not found.\n",
      "findfont: Font family 'D2Coding ligature' not found.\n",
      "findfont: Font family 'D2Coding ligature' not found.\n",
      "findfont: Font family 'D2Coding ligature' not found.\n",
      "findfont: Font family 'D2Coding ligature' not found.\n",
      "findfont: Font family 'D2Coding ligature' not found.\n",
      "findfont: Font family 'D2Coding ligature' not found.\n",
      "findfont: Font family 'D2Coding ligature' not found.\n",
      "findfont: Font family 'D2Coding ligature' not found.\n",
      "findfont: Font family 'D2Coding ligature' not found.\n",
      "findfont: Font family 'D2Coding ligature' not found.\n",
      "findfont: Font family 'D2Coding ligature' not found.\n",
      "findfont: Font family 'D2Coding ligature' not found.\n",
      "findfont: Font family 'D2Coding ligature' not found.\n",
      "findfont: Font family 'D2Coding ligature' not found.\n",
      "findfont: Font family 'D2Coding ligature' not found.\n",
      "findfont: Font family 'D2Coding ligature' not found.\n",
      "findfont: Font family 'D2Coding ligature' not found.\n",
      "findfont: Font family 'D2Coding ligature' not found.\n",
      "findfont: Font family 'D2Coding ligature' not found.\n",
      "findfont: Font family 'D2Coding ligature' not found.\n",
      "findfont: Font family 'D2Coding ligature' not found.\n",
      "findfont: Font family 'D2Coding ligature' not found.\n",
      "findfont: Font family 'D2Coding ligature' not found.\n",
      "findfont: Font family 'D2Coding ligature' not found.\n",
      "findfont: Font family 'D2Coding ligature' not found.\n",
      "findfont: Font family 'D2Coding ligature' not found.\n",
      "findfont: Font family 'D2Coding ligature' not found.\n",
      "findfont: Font family 'D2Coding ligature' not found.\n",
      "findfont: Font family 'D2Coding ligature' not found.\n",
      "findfont: Font family 'D2Coding ligature' not found.\n",
      "findfont: Font family 'D2Coding ligature' not found.\n",
      "findfont: Font family 'D2Coding ligature' not found.\n",
      "findfont: Font family 'D2Coding ligature' not found.\n",
      "findfont: Font family 'D2Coding ligature' not found.\n",
      "findfont: Font family 'D2Coding ligature' not found.\n",
      "findfont: Font family 'D2Coding ligature' not found.\n",
      "findfont: Font family 'D2Coding ligature' not found.\n",
      "findfont: Font family 'D2Coding ligature' not found.\n",
      "findfont: Font family 'D2Coding ligature' not found.\n",
      "findfont: Font family 'D2Coding ligature' not found.\n",
      "findfont: Font family 'D2Coding ligature' not found.\n",
      "findfont: Font family 'D2Coding ligature' not found.\n",
      "findfont: Font family 'D2Coding ligature' not found.\n",
      "findfont: Font family 'D2Coding ligature' not found.\n",
      "findfont: Font family 'D2Coding ligature' not found.\n",
      "findfont: Font family 'D2Coding ligature' not found.\n",
      "findfont: Font family 'D2Coding ligature' not found.\n",
      "findfont: Font family 'D2Coding ligature' not found.\n",
      "findfont: Font family 'D2Coding ligature' not found.\n",
      "findfont: Font family 'D2Coding ligature' not found.\n",
      "findfont: Font family 'D2Coding ligature' not found.\n",
      "findfont: Font family 'D2Coding ligature' not found.\n",
      "findfont: Font family 'D2Coding ligature' not found.\n",
      "findfont: Font family 'D2Coding ligature' not found.\n",
      "findfont: Font family 'D2Coding ligature' not found.\n",
      "findfont: Font family 'D2Coding ligature' not found.\n",
      "findfont: Font family 'D2Coding ligature' not found.\n",
      "findfont: Font family 'D2Coding ligature' not found.\n",
      "findfont: Font family 'D2Coding ligature' not found.\n",
      "findfont: Font family 'D2Coding ligature' not found.\n",
      "findfont: Font family 'D2Coding ligature' not found.\n",
      "findfont: Font family 'D2Coding ligature' not found.\n",
      "findfont: Font family 'D2Coding ligature' not found.\n",
      "findfont: Font family 'D2Coding ligature' not found.\n",
      "findfont: Font family 'D2Coding ligature' not found.\n",
      "findfont: Font family 'D2Coding ligature' not found.\n",
      "findfont: Font family 'D2Coding ligature' not found.\n",
      "findfont: Font family 'D2Coding ligature' not found.\n",
      "findfont: Font family 'D2Coding ligature' not found.\n",
      "findfont: Font family 'D2Coding ligature' not found.\n",
      "findfont: Font family 'D2Coding ligature' not found.\n",
      "findfont: Font family 'D2Coding ligature' not found.\n",
      "findfont: Font family 'D2Coding ligature' not found.\n",
      "findfont: Font family 'D2Coding ligature' not found.\n",
      "findfont: Font family 'D2Coding ligature' not found.\n",
      "findfont: Font family 'D2Coding ligature' not found.\n",
      "findfont: Font family 'D2Coding ligature' not found.\n"
     ]
    },
    {
     "data": {
      "image/png": "[encoded data removed]",
      "text/plain": [
       "<Figure size 800x600 with 1 Axes>"
      ]
     },
     "metadata": {},
     "output_type": "display_data"
    }
   ],
   "source": [
    "total = X_tr.isnull().sum().sort_values(ascending=False)\n",
    "percent = (X_tr.isnull().sum() / X_tr.isnull().count()).sort_values(ascending=False)\n",
    "missing_data = pd.concat([total, percent], axis=1, keys=['Total', 'Percent'])\n",
    "percent_data = percent.head(20)\n",
    "percent_data.plot(kind=\"bar\", figsize=(8, 6), fontsize=10)\n",
    "\n",
    "plt.xlabel(\"\", fontsize=20)\n",
    "plt.ylabel(\"\", fontsize=20)\n",
    "plt.title(\"Total Missing Value (%)\", fontsize=20)"
   ]
  },
  {
   "cell_type": "code",
   "execution_count": 22,
   "metadata": {},
   "outputs": [],
   "source": [
    "X_tr['hasCabin'] = X_tr['cabin'].isnull().apply(lambda x: 0 if x == True else 1)\n",
    "X_tr['hasAge'] = X_tr['age'].isnull().apply(lambda x: 0 if x == True else 1)"
   ]
  },
  {
   "cell_type": "code",
   "execution_count": 23,
   "metadata": {},
   "outputs": [
    {
     "name": "stderr",
     "output_type": "stream",
     "text": [
      "findfont: Font family 'D2Coding ligature' not found.\n",
      "findfont: Font family 'D2Coding ligature' not found.\n",
      "findfont: Font family 'D2Coding ligature' not found.\n",
      "findfont: Font family 'D2Coding ligature' not found.\n",
      "findfont: Font family 'D2Coding ligature' not found.\n",
      "findfont: Font family 'D2Coding ligature' not found.\n",
      "findfont: Font family 'D2Coding ligature' not found.\n",
      "findfont: Font family 'D2Coding ligature' not found.\n",
      "findfont: Font family 'D2Coding ligature' not found.\n",
      "findfont: Font family 'D2Coding ligature' not found.\n",
      "findfont: Font family 'D2Coding ligature' not found.\n",
      "findfont: Font family 'D2Coding ligature' not found.\n",
      "findfont: Font family 'D2Coding ligature' not found.\n",
      "findfont: Font family 'D2Coding ligature' not found.\n",
      "findfont: Font family 'D2Coding ligature' not found.\n",
      "findfont: Font family 'D2Coding ligature' not found.\n",
      "findfont: Font family 'D2Coding ligature' not found.\n",
      "findfont: Font family 'D2Coding ligature' not found.\n",
      "findfont: Font family 'D2Coding ligature' not found.\n",
      "findfont: Font family 'D2Coding ligature' not found.\n",
      "findfont: Font family 'D2Coding ligature' not found.\n",
      "findfont: Font family 'D2Coding ligature' not found.\n",
      "findfont: Font family 'D2Coding ligature' not found.\n",
      "findfont: Font family 'D2Coding ligature' not found.\n",
      "findfont: Font family 'D2Coding ligature' not found.\n",
      "findfont: Font family 'D2Coding ligature' not found.\n",
      "findfont: Font family 'D2Coding ligature' not found.\n",
      "findfont: Font family 'D2Coding ligature' not found.\n",
      "findfont: Font family 'D2Coding ligature' not found.\n",
      "findfont: Font family 'D2Coding ligature' not found.\n",
      "findfont: Font family 'D2Coding ligature' not found.\n",
      "findfont: Font family 'D2Coding ligature' not found.\n",
      "findfont: Font family 'D2Coding ligature' not found.\n",
      "findfont: Font family 'D2Coding ligature' not found.\n",
      "findfont: Font family 'D2Coding ligature' not found.\n",
      "findfont: Font family 'D2Coding ligature' not found.\n",
      "findfont: Font family 'D2Coding ligature' not found.\n",
      "findfont: Font family 'D2Coding ligature' not found.\n",
      "findfont: Font family 'D2Coding ligature' not found.\n",
      "findfont: Font family 'D2Coding ligature' not found.\n"
     ]
    },
    {
     "data": {
      "image/png": "[encoded data removed]",
      "text/plain": [
       "<Figure size 800x600 with 1 Axes>"
      ]
     },
     "metadata": {},
     "output_type": "display_data"
    }
   ],
   "source": [
    "data = pd.concat([X_tr['fare'], X_tr['hasCabin']], axis=1)\n",
    "f, ax = plt.subplots(figsize=(8, 6))\n",
    "fig = sns.boxplot(x='hasCabin', y='fare', data=data)"
   ]
  },
  {
   "cell_type": "code",
   "execution_count": 24,
   "metadata": {},
   "outputs": [
    {
     "name": "stderr",
     "output_type": "stream",
     "text": [
      "findfont: Font family 'D2Coding ligature' not found.\n",
      "findfont: Font family 'D2Coding ligature' not found.\n",
      "findfont: Font family 'D2Coding ligature' not found.\n",
      "findfont: Font family 'D2Coding ligature' not found.\n",
      "findfont: Font family 'D2Coding ligature' not found.\n",
      "findfont: Font family 'D2Coding ligature' not found.\n",
      "findfont: Font family 'D2Coding ligature' not found.\n",
      "findfont: Font family 'D2Coding ligature' not found.\n",
      "findfont: Font family 'D2Coding ligature' not found.\n",
      "findfont: Font family 'D2Coding ligature' not found.\n",
      "findfont: Font family 'D2Coding ligature' not found.\n",
      "findfont: Font family 'D2Coding ligature' not found.\n",
      "findfont: Font family 'D2Coding ligature' not found.\n",
      "findfont: Font family 'D2Coding ligature' not found.\n",
      "findfont: Font family 'D2Coding ligature' not found.\n",
      "findfont: Font family 'D2Coding ligature' not found.\n",
      "findfont: Font family 'D2Coding ligature' not found.\n",
      "findfont: Font family 'D2Coding ligature' not found.\n",
      "findfont: Font family 'D2Coding ligature' not found.\n",
      "findfont: Font family 'D2Coding ligature' not found.\n",
      "findfont: Font family 'D2Coding ligature' not found.\n",
      "findfont: Font family 'D2Coding ligature' not found.\n",
      "findfont: Font family 'D2Coding ligature' not found.\n",
      "findfont: Font family 'D2Coding ligature' not found.\n",
      "findfont: Font family 'D2Coding ligature' not found.\n",
      "findfont: Font family 'D2Coding ligature' not found.\n",
      "findfont: Font family 'D2Coding ligature' not found.\n",
      "findfont: Font family 'D2Coding ligature' not found.\n",
      "findfont: Font family 'D2Coding ligature' not found.\n",
      "findfont: Font family 'D2Coding ligature' not found.\n",
      "findfont: Font family 'D2Coding ligature' not found.\n",
      "findfont: Font family 'D2Coding ligature' not found.\n",
      "findfont: Font family 'D2Coding ligature' not found.\n",
      "findfont: Font family 'D2Coding ligature' not found.\n",
      "findfont: Font family 'D2Coding ligature' not found.\n",
      "findfont: Font family 'D2Coding ligature' not found.\n",
      "findfont: Font family 'D2Coding ligature' not found.\n"
     ]
    },
    {
     "data": {
      "image/png": "[encoded data removed]",
      "text/plain": [
       "<Figure size 640x480 with 3 Axes>"
      ]
     },
     "metadata": {},
     "output_type": "display_data"
    }
   ],
   "source": [
    "from statsmodels.graphics.mosaicplot import mosaic\n",
    "\n",
    "mosaic(X_tr, ['hasCabin', 'pclass'], gap=0.02)\n",
    "plt.show()"
   ]
  },
  {
   "cell_type": "code",
   "execution_count": 26,
   "metadata": {},
   "outputs": [
    {
     "name": "stderr",
     "output_type": "stream",
     "text": [
      "findfont: Font family 'D2Coding ligature' not found.\n",
      "findfont: Font family 'D2Coding ligature' not found.\n",
      "findfont: Font family 'D2Coding ligature' not found.\n",
      "findfont: Font family 'D2Coding ligature' not found.\n",
      "findfont: Font family 'D2Coding ligature' not found.\n",
      "findfont: Font family 'D2Coding ligature' not found.\n",
      "findfont: Font family 'D2Coding ligature' not found.\n",
      "findfont: Font family 'D2Coding ligature' not found.\n",
      "findfont: Font family 'D2Coding ligature' not found.\n",
      "findfont: Font family 'D2Coding ligature' not found.\n",
      "findfont: Font family 'D2Coding ligature' not found.\n",
      "findfont: Font family 'D2Coding ligature' not found.\n",
      "findfont: Font family 'D2Coding ligature' not found.\n",
      "findfont: Font family 'D2Coding ligature' not found.\n",
      "findfont: Font family 'D2Coding ligature' not found.\n",
      "findfont: Font family 'D2Coding ligature' not found.\n",
      "findfont: Font family 'D2Coding ligature' not found.\n",
      "findfont: Font family 'D2Coding ligature' not found.\n",
      "findfont: Font family 'D2Coding ligature' not found.\n",
      "findfont: Font family 'D2Coding ligature' not found.\n",
      "findfont: Font family 'D2Coding ligature' not found.\n",
      "findfont: Font family 'D2Coding ligature' not found.\n",
      "findfont: Font family 'D2Coding ligature' not found.\n",
      "findfont: Font family 'D2Coding ligature' not found.\n",
      "findfont: Font family 'D2Coding ligature' not found.\n",
      "findfont: Font family 'D2Coding ligature' not found.\n",
      "findfont: Font family 'D2Coding ligature' not found.\n",
      "findfont: Font family 'D2Coding ligature' not found.\n",
      "findfont: Font family 'D2Coding ligature' not found.\n",
      "findfont: Font family 'D2Coding ligature' not found.\n",
      "findfont: Font family 'D2Coding ligature' not found.\n",
      "findfont: Font family 'D2Coding ligature' not found.\n",
      "findfont: Font family 'D2Coding ligature' not found.\n",
      "findfont: Font family 'D2Coding ligature' not found.\n",
      "findfont: Font family 'D2Coding ligature' not found.\n",
      "findfont: Font family 'D2Coding ligature' not found.\n",
      "findfont: Font family 'D2Coding ligature' not found.\n",
      "findfont: Font family 'D2Coding ligature' not found.\n",
      "findfont: Font family 'D2Coding ligature' not found.\n",
      "findfont: Font family 'D2Coding ligature' not found.\n",
      "findfont: Font family 'D2Coding ligature' not found.\n",
      "findfont: Font family 'D2Coding ligature' not found.\n",
      "findfont: Font family 'D2Coding ligature' not found.\n",
      "findfont: Font family 'D2Coding ligature' not found.\n",
      "findfont: Font family 'D2Coding ligature' not found.\n",
      "findfont: Font family 'D2Coding ligature' not found.\n"
     ]
    },
    {
     "data": {
      "image/png": "[encoded data removed]",
      "text/plain": [
       "<Figure size 800x600 with 1 Axes>"
      ]
     },
     "metadata": {},
     "output_type": "display_data"
    }
   ],
   "source": [
    "data = pd.concat([X_tr['fare'], X_tr['embarked']], axis=1)\n",
    "f, ax = plt.subplots(figsize=(8, 6))\n",
    "fig = sns.boxplot(x='embarked', y=\"fare\", data=data)"
   ]
  },
  {
   "cell_type": "code",
   "execution_count": 28,
   "metadata": {},
   "outputs": [
    {
     "data": {
      "text/plain": [
       "<AxesSubplot: xlabel='embarked', ylabel='fare'>"
      ]
     },
     "execution_count": 28,
     "metadata": {},
     "output_type": "execute_result"
    },
    {
     "name": "stderr",
     "output_type": "stream",
     "text": [
      "findfont: Font family 'D2Coding ligature' not found.\n",
      "findfont: Font family 'D2Coding ligature' not found.\n",
      "findfont: Font family 'D2Coding ligature' not found.\n",
      "findfont: Font family 'D2Coding ligature' not found.\n",
      "findfont: Font family 'D2Coding ligature' not found.\n",
      "findfont: Font family 'D2Coding ligature' not found.\n",
      "findfont: Font family 'D2Coding ligature' not found.\n",
      "findfont: Font family 'D2Coding ligature' not found.\n",
      "findfont: Font family 'D2Coding ligature' not found.\n",
      "findfont: Font family 'D2Coding ligature' not found.\n",
      "findfont: Font family 'D2Coding ligature' not found.\n",
      "findfont: Font family 'D2Coding ligature' not found.\n",
      "findfont: Font family 'D2Coding ligature' not found.\n",
      "findfont: Font family 'D2Coding ligature' not found.\n",
      "findfont: Font family 'D2Coding ligature' not found.\n",
      "findfont: Font family 'D2Coding ligature' not found.\n",
      "findfont: Font family 'D2Coding ligature' not found.\n",
      "findfont: Font family 'D2Coding ligature' not found.\n",
      "findfont: Font family 'D2Coding ligature' not found.\n",
      "findfont: Font family 'D2Coding ligature' not found.\n",
      "findfont: Font family 'D2Coding ligature' not found.\n",
      "findfont: Font family 'D2Coding ligature' not found.\n",
      "findfont: Font family 'D2Coding ligature' not found.\n",
      "findfont: Font family 'D2Coding ligature' not found.\n",
      "findfont: Font family 'D2Coding ligature' not found.\n",
      "findfont: Font family 'D2Coding ligature' not found.\n",
      "findfont: Font family 'D2Coding ligature' not found.\n",
      "findfont: Font family 'D2Coding ligature' not found.\n",
      "findfont: Font family 'D2Coding ligature' not found.\n",
      "findfont: Font family 'D2Coding ligature' not found.\n",
      "findfont: Font family 'D2Coding ligature' not found.\n",
      "findfont: Font family 'D2Coding ligature' not found.\n",
      "findfont: Font family 'D2Coding ligature' not found.\n",
      "findfont: Font family 'D2Coding ligature' not found.\n",
      "findfont: Font family 'D2Coding ligature' not found.\n",
      "findfont: Font family 'D2Coding ligature' not found.\n",
      "findfont: Font family 'D2Coding ligature' not found.\n",
      "findfont: Font family 'D2Coding ligature' not found.\n",
      "findfont: Font family 'D2Coding ligature' not found.\n",
      "findfont: Font family 'D2Coding ligature' not found.\n",
      "findfont: Font family 'D2Coding ligature' not found.\n",
      "findfont: Font family 'D2Coding ligature' not found.\n",
      "findfont: Font family 'D2Coding ligature' not found.\n",
      "findfont: Font family 'D2Coding ligature' not found.\n",
      "findfont: Font family 'D2Coding ligature' not found.\n",
      "findfont: Font family 'D2Coding ligature' not found.\n",
      "findfont: Font family 'D2Coding ligature' not found.\n",
      "findfont: Font family 'D2Coding ligature' not found.\n",
      "findfont: Font family 'D2Coding ligature' not found.\n",
      "findfont: Font family 'D2Coding ligature' not found.\n",
      "findfont: Font family 'D2Coding ligature' not found.\n",
      "findfont: Font family 'D2Coding ligature' not found.\n",
      "findfont: Font family 'D2Coding ligature' not found.\n",
      "findfont: Font family 'D2Coding ligature' not found.\n",
      "findfont: Font family 'D2Coding ligature' not found.\n",
      "findfont: Font family 'D2Coding ligature' not found.\n",
      "findfont: Font family 'D2Coding ligature' not found.\n",
      "findfont: Font family 'D2Coding ligature' not found.\n",
      "findfont: Font family 'D2Coding ligature' not found.\n",
      "findfont: Font family 'D2Coding ligature' not found.\n",
      "findfont: Font family 'D2Coding ligature' not found.\n",
      "findfont: Font family 'D2Coding ligature' not found.\n",
      "findfont: Font family 'D2Coding ligature' not found.\n",
      "findfont: Font family 'D2Coding ligature' not found.\n",
      "findfont: Font family 'D2Coding ligature' not found.\n",
      "findfont: Font family 'D2Coding ligature' not found.\n",
      "findfont: Font family 'D2Coding ligature' not found.\n",
      "findfont: Font family 'D2Coding ligature' not found.\n",
      "findfont: Font family 'D2Coding ligature' not found.\n",
      "findfont: Font family 'D2Coding ligature' not found.\n",
      "findfont: Font family 'D2Coding ligature' not found.\n",
      "findfont: Font family 'D2Coding ligature' not found.\n",
      "findfont: Font family 'D2Coding ligature' not found.\n",
      "findfont: Font family 'D2Coding ligature' not found.\n",
      "findfont: Font family 'D2Coding ligature' not found.\n",
      "findfont: Font family 'D2Coding ligature' not found.\n",
      "findfont: Font family 'D2Coding ligature' not found.\n",
      "findfont: Font family 'D2Coding ligature' not found.\n",
      "findfont: Font family 'D2Coding ligature' not found.\n",
      "findfont: Font family 'D2Coding ligature' not found.\n",
      "findfont: Font family 'D2Coding ligature' not found.\n",
      "findfont: Font family 'D2Coding ligature' not found.\n",
      "findfont: Font family 'D2Coding ligature' not found.\n",
      "findfont: Font family 'D2Coding ligature' not found.\n",
      "findfont: Font family 'D2Coding ligature' not found.\n",
      "findfont: Font family 'D2Coding ligature' not found.\n",
      "findfont: Font family 'D2Coding ligature' not found.\n",
      "findfont: Font family 'D2Coding ligature' not found.\n",
      "findfont: Font family 'D2Coding ligature' not found.\n",
      "findfont: Font family 'D2Coding ligature' not found.\n",
      "findfont: Font family 'D2Coding ligature' not found.\n",
      "findfont: Font family 'D2Coding ligature' not found.\n",
      "findfont: Font family 'D2Coding ligature' not found.\n",
      "findfont: Font family 'D2Coding ligature' not found.\n",
      "findfont: Font family 'D2Coding ligature' not found.\n",
      "findfont: Font family 'D2Coding ligature' not found.\n",
      "findfont: Font family 'D2Coding ligature' not found.\n",
      "findfont: Font family 'D2Coding ligature' not found.\n",
      "findfont: Font family 'D2Coding ligature' not found.\n",
      "findfont: Font family 'D2Coding ligature' not found.\n",
      "findfont: Font family 'D2Coding ligature' not found.\n",
      "findfont: Font family 'D2Coding ligature' not found.\n",
      "findfont: Font family 'D2Coding ligature' not found.\n",
      "findfont: Font family 'D2Coding ligature' not found.\n",
      "findfont: Font family 'D2Coding ligature' not found.\n",
      "findfont: Font family 'D2Coding ligature' not found.\n",
      "findfont: Font family 'D2Coding ligature' not found.\n",
      "findfont: Font family 'D2Coding ligature' not found.\n",
      "findfont: Font family 'D2Coding ligature' not found.\n",
      "findfont: Font family 'D2Coding ligature' not found.\n",
      "findfont: Font family 'D2Coding ligature' not found.\n",
      "findfont: Font family 'D2Coding ligature' not found.\n",
      "findfont: Font family 'D2Coding ligature' not found.\n",
      "findfont: Font family 'D2Coding ligature' not found.\n",
      "findfont: Font family 'D2Coding ligature' not found.\n",
      "findfont: Font family 'D2Coding ligature' not found.\n",
      "findfont: Font family 'D2Coding ligature' not found.\n",
      "findfont: Font family 'D2Coding ligature' not found.\n",
      "findfont: Font family 'D2Coding ligature' not found.\n",
      "findfont: Font family 'D2Coding ligature' not found.\n",
      "findfont: Font family 'D2Coding ligature' not found.\n",
      "findfont: Font family 'D2Coding ligature' not found.\n",
      "findfont: Font family 'D2Coding ligature' not found.\n",
      "findfont: Font family 'D2Coding ligature' not found.\n",
      "findfont: Font family 'D2Coding ligature' not found.\n"
     ]
    },
    {
     "data": {
      "image/png": "[encoded data removed]",
      "text/plain": [
       "<Figure size 800x600 with 1 Axes>"
      ]
     },
     "metadata": {},
     "output_type": "display_data"
    }
   ],
   "source": [
    "f, ax = plt.subplots(figsize=(8, 6))\n",
    "sns.boxplot(x=\"embarked\", y=\"fare\", hue=\"pclass\",\n",
    "            data=X_tr, palette=\"Set3\")"
   ]
  }
 ],
 "metadata": {
  "kernelspec": {
   "display_name": "base",
   "language": "python",
   "name": "python3"
  },
  "language_info": {
   "codemirror_mode": {
    "name": "ipython",
    "version": 3
   },
   "file_extension": ".py",
   "mimetype": "text/x-python",
   "name": "python",
   "nbconvert_exporter": "python",
   "pygments_lexer": "ipython3",
   "version": "3.9.13"
  },
  "orig_nbformat": 4,
  "vscode": {
   "interpreter": {
    "hash": "9c4414609ed5f462b42f2f38552a9e96b11163def5b377caa74506408376b669"
   }
  }
 },
 "nbformat": 4,
 "nbformat_minor": 2
}
